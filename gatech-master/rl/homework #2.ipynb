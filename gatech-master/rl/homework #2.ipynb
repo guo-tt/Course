{
 "cells": [
  {
   "cell_type": "markdown",
   "metadata": {},
   "source": [
    "## Temporal Difference Learning"
   ]
  },
  {
   "cell_type": "markdown",
   "metadata": {},
   "source": [
    "\\begin{equation*}\n",
    "TD\\left( \\lambda \\right) = \\sum_{k=1}^\\infty \\left( 1 - \\lambda \\right)\\lambda^{k-1}E_k\n",
    "\\end{equation*}"
   ]
  },
  {
   "cell_type": "markdown",
   "metadata": {},
   "source": [
    "Example\n",
    "```\n",
    "probToState1 = 0.5\n",
    "valueEstimates = {0, 3, 8, 2, 1, 2, 0}\n",
    "rewards = {0, 0, 0, 4, 1, 1, 1}\n",
    "\n",
    "```\n",
    "when\n",
    "\n",
    "\\begin{equation*}\n",
    "\\gamma = 1 \\\\\n",
    "\\end{equation*}"
   ]
  },
  {
   "cell_type": "markdown",
   "metadata": {},
   "source": [
    "Solving it with the MDP as shown in the Quiz: Value Computation Example,\n",
    "\n",
    "\\begin{equation*}\n",
    "V(S_t) = r + \\gamma V(S_{t+1})\n",
    "\\end{equation*}"
   ]
  },
  {
   "cell_type": "markdown",
   "metadata": {},
   "source": [
    "So\n",
    "\n",
    "\\begin{equation*}\n",
    "TD\\left( \\lambda \\right)\n",
    "\\end{equation*}\n",
    "\n",
    "is going backwards from the furthest state possible."
   ]
  },
  {
   "cell_type": "markdown",
   "metadata": {},
   "source": [
    "\\begin{equation*}\n",
    "V(S_6) = 0 \\\\\n",
    "V(S_5) = 1 + V(S_6) = 1 \\\\\n",
    "V(S_4) = 1 + V(S_5) = 2 \\\\\n",
    "V(S_3) = 1 + V(S_4) = 3 \\\\\n",
    "V(S_2) = 4 + V(S_3) = 7 \\\\\n",
    "V(S_1) = 0 + V(S_3) = 3 \\\\\n",
    "V(S_0) = 0 + (0.5)(3) + (0.5)(7) = 5.0 \\\\\n",
    " = TD(1) = E_{\\infty}\n",
    "\\end{equation*}"
   ]
  },
  {
   "cell_type": "markdown",
   "metadata": {},
   "source": [
    "Similarly,\n",
    "\n",
    "\\begin{equation*}\n",
    "TD(0) \n",
    "\\end{equation*}\n",
    "\n",
    "is only from one step ahead.\n",
    "\n",
    "\\begin{equation*}\n",
    "TD(0) = E_1 \\\\\n",
    "= 0 + (0.5)(3) + (0.5)(8) = 5.5\n",
    "\\end{equation*}"
   ]
  },
  {
   "cell_type": "markdown",
   "metadata": {},
   "source": [
    "? using same analytical approach...\n",
    "\n",
    "\\begin{equation*}\n",
    "E_2 = 4 \\\\\n",
    "E_3 = 4 \\\\\n",
    "E_4 = 6 \\\\\n",
    "E_5 = 5 \\\\\n",
    "E_6 = 5 \\\\\n",
    "...\n",
    "\\end{equation*}"
   ]
  },
  {
   "cell_type": "markdown",
   "metadata": {},
   "source": [
    "So we solve the polynomial where\n",
    "\n",
    "\\begin{equation*}\n",
    "TD(\\lambda) = TD(1)\n",
    "\\end{equation*}\n",
    "\n",
    "Hence,\n",
    "\n",
    "\\begin{equation*}\n",
    "TD(1) = (1 - \\lambda)E_1 + \\lambda(1 - \\lambda)E_2 + \\lambda^2(1 - \\lambda)E_3 + \\lambda^3(1 - \\lambda)E_4 + \\lambda^4(1 - \\lambda)E_5 + ... + (1 - \\lambda)\\lambda^\\infty E_{\\infty}\n",
    "\\end{equation*}\n",
    "\n",
    "Simplified to\n",
    "\n",
    "\\begin{equation*}\n",
    "(E_6 - E_5)\\lambda^5E_5 + (E_5 - E_4)\\lambda^4 + (E_4 - E_3)\\lambda^3 + (E_3 - E_2)\\lambda^2 + (E_2 - E_1)\\lambda + E_1 - TD(1) = 0\n",
    "\\end{equation*}"
   ]
  },
  {
   "cell_type": "code",
   "execution_count": 1,
   "metadata": {},
   "outputs": [],
   "source": [
    "import numpy as np"
   ]
  },
  {
   "cell_type": "code",
   "execution_count": 2,
   "metadata": {},
   "outputs": [],
   "source": [
    "def getTD1(probToState1, valueEstimates, rewards):\n",
    "    VS6 = 0\n",
    "    VS5 = VS6 + rewards[6]\n",
    "    VS4 = VS5 + rewards[5]\n",
    "    VS3 = VS4 + rewards[4]\n",
    "    \n",
    "    VS2 = VS3 + rewards[3]\n",
    "    VS1 = VS3 + rewards[2]\n",
    "    \n",
    "    VS0 = probToState1 * (VS1 + rewards[0]) + (1 - probToState1) * (VS2 + rewards[1])\n",
    "    \n",
    "    return VS0"
   ]
  },
  {
   "cell_type": "code",
   "execution_count": 3,
   "metadata": {},
   "outputs": [],
   "source": [
    "def getE1(probToState1, valueEstimates, rewards):\n",
    "    VS1 = valueEstimates[1]\n",
    "    VS2 = valueEstimates[2]\n",
    "    \n",
    "    VS0 = probToState1 * (VS1 + rewards[0]) + (1 - probToState1) * (VS2 + rewards[1])\n",
    "    \n",
    "    return VS0"
   ]
  },
  {
   "cell_type": "code",
   "execution_count": 4,
   "metadata": {},
   "outputs": [],
   "source": [
    "def getE2(probToState1, valueEstimates, rewards):\n",
    "    VS3 = valueEstimates[3]\n",
    "    VS1 = rewards[2] + VS3\n",
    "    VS2 = rewards[3] + VS3\n",
    "    \n",
    "    VS0 = probToState1 * (VS1 + rewards[0]) + (1 - probToState1) * (VS2 + rewards[1])\n",
    "    \n",
    "    return VS0"
   ]
  },
  {
   "cell_type": "code",
   "execution_count": 5,
   "metadata": {},
   "outputs": [],
   "source": [
    "def getE3(probToState1, valueEstimates, rewards):\n",
    "    VS4 = valueEstimates[4]\n",
    "    VS3 = rewards[4] + VS4\n",
    "    VS1 = rewards[2] + VS3\n",
    "    VS2 = rewards[3] + VS3\n",
    "    \n",
    "    VS0 = probToState1 * (VS1 + rewards[0]) + (1 - probToState1) * (VS2 + rewards[1])\n",
    "    \n",
    "    return VS0"
   ]
  },
  {
   "cell_type": "code",
   "execution_count": 6,
   "metadata": {},
   "outputs": [],
   "source": [
    "def getE4(probToState1, valueEstimates, rewards):\n",
    "    VS5 = valueEstimates[5]\n",
    "    VS4 = rewards[5] + VS5\n",
    "    VS3 = rewards[4] + VS4\n",
    "    VS1 = rewards[2] + VS3\n",
    "    VS2 = rewards[3] + VS3\n",
    "    \n",
    "    VS0 = probToState1 * (VS1 + rewards[0]) + (1 - probToState1) * (VS2 + rewards[1])\n",
    "    \n",
    "    return VS0"
   ]
  },
  {
   "cell_type": "code",
   "execution_count": 7,
   "metadata": {},
   "outputs": [],
   "source": [
    "def getE5(probToState1, valueEstimates, rewards):\n",
    "    VS6 = valueEstimates[6]\n",
    "    VS5 = rewards[6] + VS6\n",
    "    VS4 = rewards[5] + VS5\n",
    "    VS3 = rewards[4] + VS4\n",
    "    VS1 = rewards[2] + VS3\n",
    "    VS2 = rewards[3] + VS3\n",
    "    \n",
    "    VS0 = probToState1 * (VS1 + rewards[0]) + (1 - probToState1) * (VS2 + rewards[1])\n",
    "    \n",
    "    return VS0"
   ]
  },
  {
   "cell_type": "code",
   "execution_count": 8,
   "metadata": {},
   "outputs": [],
   "source": [
    "def getE6(probToState1, valueEstimates, rewards):\n",
    "    VS6 = 0 + 0 # no reward no value from \"S7\"\n",
    "    VS5 = rewards[6] + VS6\n",
    "    VS4 = rewards[5] + VS5\n",
    "    VS3 = rewards[4] + VS4\n",
    "    VS1 = rewards[2] + VS3\n",
    "    VS2 = rewards[3] + VS3\n",
    "    \n",
    "    VS0 = probToState1 * (VS1 + rewards[0]) + (1 - probToState1) * (VS2 + rewards[1])\n",
    "    \n",
    "    return VS0"
   ]
  },
  {
   "cell_type": "code",
   "execution_count": 9,
   "metadata": {},
   "outputs": [
    {
     "data": {
      "text/plain": [
       "5.0"
      ]
     },
     "execution_count": 9,
     "metadata": {},
     "output_type": "execute_result"
    }
   ],
   "source": [
    "getTD1(0.5, [0, 3, 8, 2, 1, 2, 0], [0, 0, 0, 4, 1, 1, 1])"
   ]
  },
  {
   "cell_type": "code",
   "execution_count": 10,
   "metadata": {},
   "outputs": [],
   "source": [
    "def getEstimators(probToState1, valueEstimates, rewards):\n",
    "    E1 = getE1(probToState1, valueEstimates, rewards)\n",
    "    E2 = getE2(probToState1, valueEstimates, rewards)\n",
    "    E3 = getE3(probToState1, valueEstimates, rewards)\n",
    "    E4 = getE4(probToState1, valueEstimates, rewards)\n",
    "    E5 = getE5(probToState1, valueEstimates, rewards)\n",
    "    E6 = getE6(probToState1, valueEstimates, rewards)\n",
    "    \n",
    "    print((E1, E2, E3, E4, E5, E6))\n",
    "    return (E1, E2, E3, E4, E5, E6)"
   ]
  },
  {
   "cell_type": "code",
   "execution_count": 11,
   "metadata": {},
   "outputs": [
    {
     "name": "stdout",
     "output_type": "stream",
     "text": [
      "(5.5, 4.0, 4.0, 6.0, 5.0, 5.0)\n"
     ]
    },
    {
     "data": {
      "text/plain": [
       "(5.5, 4.0, 4.0, 6.0, 5.0, 5.0)"
      ]
     },
     "execution_count": 11,
     "metadata": {},
     "output_type": "execute_result"
    }
   ],
   "source": [
    "getEstimators(0.5, [0, 3, 8, 2, 1, 2, 0], [0, 0, 0, 4, 1, 1, 1])"
   ]
  },
  {
   "cell_type": "code",
   "execution_count": 12,
   "metadata": {},
   "outputs": [],
   "source": [
    "def findLambda(probToState1, valueEstimates, rewards):\n",
    "    E = getEstimators(probToState1, valueEstimates, rewards)\n",
    "\n",
    "    coeffs = [E[5] - E[4], E[4] - E[3], E[3] - E[2], E[2] - E[1], E[1] - E[0], E[0] - E[5]]\n",
    "\n",
    "    print(np.roots(coeffs))"
   ]
  },
  {
   "cell_type": "code",
   "execution_count": 13,
   "metadata": {},
   "outputs": [
    {
     "name": "stdout",
     "output_type": "stream",
     "text": [
      "(13.553, 6.0870000000000015, 35.187, 27.287000000000003, 16.687, 16.687)\n",
      "[-2.14692153  1.          0.6227695  -0.22113099]\n"
     ]
    }
   ],
   "source": [
    "# Example 1\n",
    "findLambda(0.81, [0.0,4.0,25.7,0.0,20.1,12.2,0.0], [7.9,-5.1,2.5,-7.2,9.0,0.0,1.6])"
   ]
  },
  {
   "cell_type": "code",
   "execution_count": 14,
   "metadata": {},
   "outputs": [
    {
     "name": "stdout",
     "output_type": "stream",
     "text": [
      "(-1.0479999999999998, 28.326, 22.126, 14.325999999999999, 23.526, 11.225999999999999)\n",
      "[-1.16015001+0.j         0.20622303+1.3010633j  0.20622303-1.3010633j\n",
      "  1.        +0.j         0.49567142+0.j       ]\n"
     ]
    }
   ],
   "source": [
    "# Example 2\n",
    "findLambda(0.22, [0.0,-5.2,0.0,25.4,10.6,9.2,12.3], [-2.4,0.8,4.0,2.5,8.6,-6.4,6.1])"
   ]
  },
  {
   "cell_type": "code",
   "execution_count": 15,
   "metadata": {},
   "outputs": [
    {
     "name": "stdout",
     "output_type": "stream",
     "text": [
      "(7.864, -5.336, 25.864, -11.935999999999998, -0.3360000000000003, 6.164000000000001)\n",
      "[-3.72950282+0.j          1.        +0.j          0.36969234+0.45229758j\n",
      "  0.36969234-0.45229758j  0.20550276+0.j        ]\n"
     ]
    }
   ],
   "source": [
    "# Example 2\n",
    "findLambda(0.64, [0.0,4.9,7.8,-2.3,25.5,-10.2,-6.5], [-2.4,9.6,-7.8,0.1,3.4,-2.1,7.9])"
   ]
  },
  {
   "cell_type": "markdown",
   "metadata": {},
   "source": [
    "# Test"
   ]
  },
  {
   "cell_type": "code",
   "execution_count": 37,
   "metadata": {},
   "outputs": [
    {
     "name": "stdout",
     "output_type": "stream",
     "text": [
      "(3.0949999999999993, 22.219999999999995, 29.619999999999994, 31.92, 15.92, 10.22)\n",
      "[-2.94257095+0.j         -0.60032884+0.95031208j -0.60032884-0.95031208j\n",
      "  1.        +0.j          0.33621109+0.j        ]\n"
     ]
    }
   ],
   "source": [
    "findLambda(0.15, [0.0,0,4.1,17.4,17.4,21.8,5.7], [4.2,-1.2,1.3,5.9,7.4,-2.1,0.1])"
   ]
  },
  {
   "cell_type": "code",
   "execution_count": null,
   "metadata": {},
   "outputs": [],
   "source": []
  }
 ],
 "metadata": {
  "kernelspec": {
   "display_name": "Python 3",
   "language": "python",
   "name": "python3"
  },
  "language_info": {
   "codemirror_mode": {
    "name": "ipython",
    "version": 3
   },
   "file_extension": ".py",
   "mimetype": "text/x-python",
   "name": "python",
   "nbconvert_exporter": "python",
   "pygments_lexer": "ipython3",
   "version": "3.7.1"
  }
 },
 "nbformat": 4,
 "nbformat_minor": 2
}
