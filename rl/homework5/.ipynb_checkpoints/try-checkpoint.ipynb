{
 "cells": [
  {
   "cell_type": "code",
   "execution_count": 1,
   "metadata": {},
   "outputs": [
    {
     "name": "stdout",
     "output_type": "stream",
     "text": [
      "[[0, 0, 1], [1, 1, 1], [0, 1, 1], [0, 0, 1], [1, 1, 1], [1, 1, 1], [1, 1, 1], [1, 1, 1], [0, 1, 1], [0, 0, 1], [0, 1, 1], [1, 1, 1], [1, 1, 1], [0, 1, 1], [1, 1, 1], [1, 1, 1], [0, 1, 1], [1, 1, 1]]\n",
      "[1, 0, 1, 1, 0, 0, 0, 0, 1, 1, 1, 0, 0, 1, 0, 0, 1, 0]\n"
     ]
    }
   ],
   "source": [
    "import numpy as np \n",
    "from collections import Counter\n",
    "\n",
    "s = \"{{0,0,1},{1,1,1},{0,1,1},{0,0,1},{1,1,1},{1,1,1},{1,1,1},{1,1,1},{0,1,1},{0,0,1},{0,1,1},{1,1,1},{1,1,1},{0,1,1},{1,1,1},{1,1,1},{0,1,1},{1,1,1}}\"\n",
    "f = \"{1,0,1,1,0,0,0,0,1,1,1,0,0,1,0,0,1,0}\"\n",
    "\n",
    "\n",
    "at_estabilishment = s.replace(\"{\", \"[\")\n",
    "at_estabilishment = eval(at_estabilishment.replace(\"}\", \"]\"))\n",
    "\n",
    "fight = f.replace(\"{\", \"[\")\n",
    "fight = eval(fight.replace(\"}\", \"]\"))\n",
    "\n",
    "print(at_estabilishment)\n",
    "print(fight)"
   ]
  },
  {
   "cell_type": "code",
   "execution_count": 2,
   "metadata": {},
   "outputs": [
    {
     "data": {
      "text/plain": [
       "{(0, 0, 1): 1, (1, 1, 1): 0, (0, 1, 1): 1}"
      ]
     },
     "execution_count": 2,
     "metadata": {},
     "output_type": "execute_result"
    }
   ],
   "source": [
    "set_establishment = []\n",
    "to_fit = {}\n",
    "for i in range(len(at_estabilishment)):\n",
    "    establishment = tuple(at_estabilishment[i])\n",
    "    to_fit[establishment] = fight[i]\n",
    "    if at_estabilishment[i] not in set_establishment:\n",
    "        set_establishment.append(at_estabilishment[i])\n",
    "        \n",
    "def _multiply(x,y):\n",
    "    # y is existence\n",
    "    r = 1 \n",
    "    for i in range(len(x)):\n",
    "        if x[i]:\n",
    "            r = r * y[i] \n",
    "    counts = Counter(x) \n",
    "    if len(counts) == 1: \n",
    "        r = 0 \n",
    "    return r \n",
    "\n",
    "to_fit "
   ]
  },
  {
   "cell_type": "code",
   "execution_count": 3,
   "metadata": {},
   "outputs": [
    {
     "data": {
      "text/plain": [
       "{(0, 0, 1): 1, (0, 1, 1): 1}"
      ]
     },
     "execution_count": 3,
     "metadata": {},
     "output_type": "execute_result"
    }
   ],
   "source": [
    "to_solve = {}\n",
    "for i in range(len(at_estabilishment)):\n",
    "    establishment = tuple(at_estabilishment[i])\n",
    "    counts = Counter(establishment)\n",
    "\n",
    "    if len(counts) != 1 and len(to_solve) < 3:  \n",
    "        to_solve[establishment] = fight[i] \n",
    "    if i == 0 and len(counts) != 1:\n",
    "        to_solve[establishment] = fight[i]\n",
    "\n",
    "        \n",
    "to_solve "
   ]
  },
  {
   "cell_type": "code",
   "execution_count": 4,
   "metadata": {},
   "outputs": [
    {
     "data": {
      "text/plain": [
       "[[0, -1, 1], [0, 1, -1], [-1, 0, 1], [-1, 1, 0], [1, 0, -1], [1, -1, 0]]"
      ]
     },
     "execution_count": 4,
     "metadata": {},
     "output_type": "execute_result"
    }
   ],
   "source": [
    "# 1 is common\n",
    "# 0 is peacemaker\n",
    "# -1 is instigator\n",
    "\n",
    "# < 0: fight\n",
    "# >= 0: no fight\n",
    "ACE2 = [0,-1] \n",
    "ACE3 = [0,-1,1] \n",
    "\n",
    "space = []\n",
    "for a in ACE3:\n",
    "    for b in ACE3:\n",
    "        for c in ACE3:\n",
    "#             for d in ACE3:\n",
    "#                 yy = [a,b,c,d] \n",
    "            yy = [a,b,c] \n",
    "#         yy = [a,b] \n",
    "            counts = Counter(yy)\n",
    "            if yy not in space and counts[0] == 1 and counts[-1] == 1:\n",
    "                space.append(yy) \n",
    "\n",
    "space "
   ]
  },
  {
   "cell_type": "code",
   "execution_count": 5,
   "metadata": {},
   "outputs": [
    {
     "name": "stdout",
     "output_type": "stream",
     "text": [
      "[[0, 1, -1]]\n"
     ]
    }
   ],
   "source": [
    "#to_solve = {(1, 1, 1, 1): 0, (0, 1, 1, 1): 0, (0, 0, 0, 1): 0}\n",
    "# [1,0,-1,1]\n",
    "\n",
    "ss = []\n",
    "for i in range(len(space)):\n",
    "    flag = 0 \n",
    "    for x, y in to_solve.items():\n",
    "#         print(x)\n",
    "#         print(space[i])\n",
    "#         print(_multiply(list(x), space[i]))\n",
    "        if _multiply(list(x), space[i]) < 0 and y == 1: \n",
    "            flag = flag + 1 \n",
    "        if _multiply(list(x), space[i]) >= 0 and y == 0:  \n",
    "            flag = flag + 1\n",
    "    if flag == len(to_solve):\n",
    "#         s = space[i] \n",
    "        if space[i] not in ss:\n",
    "             ss.append(space[i]) \n",
    "print(ss) "
   ]
  },
  {
   "cell_type": "code",
   "execution_count": 6,
   "metadata": {},
   "outputs": [
    {
     "name": "stdout",
     "output_type": "stream",
     "text": [
      "Solution is:  [0, 1, -1]\n"
     ]
    }
   ],
   "source": [
    "# {(1, 1, 1, 1): 0, (0, 1, 1, 1): 0, (0, 0, 0, 1): 0, (0, 0, 1, 1): 1}\n",
    "for s in ss:\n",
    "    nflag = 0 \n",
    "    for x, y in to_fit.items():\n",
    "        counts = Counter(x)\n",
    "        if len(counts) == 1 and y == 0: \n",
    "            nflag = nflag + 1\n",
    "        else:\n",
    "            if _multiply(list(x), s) < 0 and y == 1:\n",
    "                nflag = nflag + 1 \n",
    "            elif _multiply(list(x), s) >= 0 and y == 0:\n",
    "                nflag = nflag + 1\n",
    "    if nflag == len(to_fit):\n",
    "        print(\"Solution is: \", s)"
   ]
  },
  {
   "cell_type": "code",
   "execution_count": 7,
   "metadata": {},
   "outputs": [
    {
     "name": "stdout",
     "output_type": "stream",
     "text": [
      "[-1,0,-1,1,0,0,0,0,1,1,1,0,0,1,0,0,1,0]\n"
     ]
    }
   ],
   "source": [
    "output = []\n",
    "memory = {}\n",
    "done = False \n",
    "for i in range(len(at_estabilishment)):\n",
    "    ae = tuple(at_estabilishment[i])\n",
    "    counts = Counter(at_estabilishment[i])\n",
    "    if i == 0:\n",
    "        if len(counts) != 1: \n",
    "            output.append(-1) \n",
    "        else:\n",
    "            output.append(fight[i])\n",
    "        memory[ae] = fight[i]\n",
    "    else:\n",
    "        \n",
    "        if len(counts) == 1: \n",
    "            output.append(0)\n",
    "        else:\n",
    "#             if unknown == 0                  \n",
    "            if ae in memory:\n",
    "                output.append(memory[ae])\n",
    "                done = True\n",
    "            else:\n",
    "                output.append(-1) \n",
    "                memory[ae] = fight[i]\n",
    "                done = True\n",
    "            if not done:\n",
    "                if _multiply(at_estabilishment[i],s) < 0: \n",
    "                    output.append(1)  \n",
    "                else:\n",
    "                    output.append(0)\n",
    "            \n",
    "\n",
    "print(str(output).replace(\" \",\"\"))"
   ]
  },
  {
   "cell_type": "code",
   "execution_count": null,
   "metadata": {},
   "outputs": [],
   "source": []
  }
 ],
 "metadata": {
  "kernelspec": {
   "display_name": "Python 3",
   "language": "python",
   "name": "python3"
  },
  "language_info": {
   "codemirror_mode": {
    "name": "ipython",
    "version": 3
   },
   "file_extension": ".py",
   "mimetype": "text/x-python",
   "name": "python",
   "nbconvert_exporter": "python",
   "pygments_lexer": "ipython3",
   "version": "3.7.1"
  }
 },
 "nbformat": 4,
 "nbformat_minor": 2
}
