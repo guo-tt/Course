{
 "cells": [
  {
   "cell_type": "code",
   "execution_count": 1,
   "metadata": {},
   "outputs": [],
   "source": [
    "import numpy as np\n",
    "import math\n",
    "import matplotlib.pyplot as plt\n",
    "from datetime import datetime\n",
    "import random"
   ]
  },
  {
   "cell_type": "code",
   "execution_count": 2,
   "metadata": {},
   "outputs": [],
   "source": [
    "def to_states(ind):\n",
    "    obs = [0, 0, 0, 0, 0]\n",
    "    obs[ind] = 1\n",
    "    return obs\n",
    "    \n",
    "def random_walk(start_state, training_size, sequence_size):\n",
    "    observations = []\n",
    "    \n",
    "    for n in range(training_size):\n",
    "        ins = []\n",
    "        for i in range(sequence_size):\n",
    "            obs = []\n",
    "            ss = start_state\n",
    "            while ss != 5 and ss != -1:\n",
    "                obs.append(to_states(ss)) \n",
    "                ss += random.choice([-1, 1]) \n",
    "            ins.append(obs)\n",
    "        observations.append(ins)\n",
    "    \n",
    "    return observations "
   ]
  },
  {
   "cell_type": "code",
   "execution_count": 4,
   "metadata": {},
   "outputs": [
    {
     "name": "stdout",
     "output_type": "stream",
     "text": [
      "at alpha =  0.2 at lambda =  0.0  --> rsme =  0.09214045337123652  | weights =  [0.2752     0.40416    0.53421517 0.65572301 0.852544  ]\n",
      "at alpha =  0.2 at lambda =  0.1  --> rsme =  0.08971062080515621  | weights =  [0.26392993 0.39340709 0.55076098 0.67366701 0.85560721]\n",
      "at alpha =  0.2 at lambda =  0.2  --> rsme =  0.08852656594406443  | weights =  [0.25152736 0.38096592 0.56856659 0.69247164 0.85904121]\n",
      "at alpha =  0.2 at lambda =  0.30000000000000004  --> rsme =  0.08878709785794847  | weights =  [0.23729905 0.36595085 0.58765732 0.71247843 0.86276989]\n",
      "at alpha =  0.2 at lambda =  0.4  --> rsme =  0.09092275275293923  | weights =  [0.2203211  0.34735926 0.60794267 0.73394905 0.86663553]\n",
      "at alpha =  0.15 at lambda =  0.5  --> rsme =  0.09279792889016605  | weights =  [0.25006392 0.3539374  0.58673315 0.70608094 0.81482574]\n",
      "at alpha =  0.15 at lambda =  0.6000000000000001  --> rsme =  0.0958113373372322  | weights =  [0.22810918 0.32546774 0.60468227 0.73064853 0.81754077]\n",
      "at alpha =  0.15 at lambda =  0.7000000000000001  --> rsme =  0.10352795688664808  | weights =  [0.20007257 0.28866285 0.62319724 0.75631235 0.81820781]\n",
      "at alpha =  0.1 at lambda =  0.8  --> rsme =  0.11587463746359411  | weights =  [0.24863847 0.29116527 0.59042959 0.71207128 0.73762988]\n",
      "at alpha =  0.1 at lambda =  0.9  --> rsme =  0.13460086249757372  | weights =  [0.21363007 0.23061643 0.60137277 0.72469177 0.72007579]\n",
      "at alpha =  0.05 at lambda =  1.0  --> rsme =  0.18026008854363446  | weights =  [0.3078     0.26120812 0.52020263 0.59287971 0.58215829]\n"
     ]
    },
    {
     "data": {
      "image/png": "[encoded data removed]",
      "text/plain": [
       "<Figure size 432x288 with 1 Axes>"
      ]
     },
     "metadata": {
      "needs_background": "light"
     },
     "output_type": "display_data"
    }
   ],
   "source": [
    "def run_exp3():\n",
    "    # params is lamda and best alpha pair\n",
    "    params = []\n",
    "    for i in range(11):\n",
    "        if i < 5:\n",
    "            params.append([i*0.1, 0.2])\n",
    "        elif i < 8:\n",
    "            params.append([i*0.1, 0.15])\n",
    "        elif i < 10:\n",
    "            params.append([i*0.1, 0.10])\n",
    "        else:\n",
    "            params.append([i*0.1, 0.05])\n",
    "    rsmes = []\n",
    "    training_size = 100\n",
    "    sequence_size = 10\n",
    "    start_state = 2 \n",
    "    \n",
    "    rw = random_walk(start_state, training_size, sequence_size)\n",
    "\n",
    "    for i in params:\n",
    "        weights, rsme, se = get_predictions(i[0], rw, training_size, sequence_size, i[1])\n",
    "        rsmes.append(rsme)\n",
    "\n",
    "        print('at alpha = ', i[1], 'at lambda = ', i[0], ' --> rsme = ', rsme, ' | weights = ', weights)\n",
    "\n",
    "    # plot different lambdas\n",
    "    lams = [i[0] for i in params]\n",
    "    plt.plot(lams, rsmes)\n",
    "    plt.xlabel(r'$\\lambda$') \n",
    "    plt.ylabel(r'ERROR USING BEST $\\alpha$')\n",
    "#     plt.title('Random Walk - Reproducing Figure 5')\n",
    "    plt.grid(True)\n",
    "    plt.show()\n",
    "\n",
    "def get_predictions(lam, rw, training_size, sequence_size, alpha):\n",
    "    # perform experiment on random walk to replicate figure 4 results\n",
    "    rsme_list = []\n",
    "    for i in range(training_size):\n",
    "        weights = [0.5, 0.5, 0.5, 0.5, 0.5]\n",
    "        observations = rw[i] \n",
    "        for j in range(sequence_size):\n",
    "            obs = observations[j]\n",
    "            delta_w = 0\n",
    "            for t in range(1, len(obs) + 1):\n",
    "                ind = t - 1\n",
    "                p_t = np.dot(weights, obs[ind])\n",
    "                p_tn1 = get_p_tn1(obs, ind, weights)\n",
    "                discount_delta_w = 0\n",
    "                for k in range(1, t + 1):\n",
    "                    temp = np.multiply(lam ** (t - k), obs[k - 1])\n",
    "                    discount_delta_w = np.add(temp, discount_delta_w)\n",
    "                dw = np.multiply(alpha * (p_tn1 - p_t), discount_delta_w)\n",
    "                delta_w += dw\n",
    "            weights += delta_w\n",
    "        err = compute_error(weights)\n",
    "        rsme_list.append(err)\n",
    "    stdev = np.std(rsme_list, ddof=1)\n",
    "    se = stdev / math.sqrt(len(rsme_list))\n",
    "    return weights, np.mean(rsme_list), se\n",
    "\n",
    "def compute_error(weights):\n",
    "    expected = np.array([1.0/6, 1.0/3, 1.0/2, 2.0/3, 5.0/6])\n",
    "    rsme = math.sqrt(np.mean(np.power(np.subtract(weights, expected), 2)))\n",
    "    return rsme\n",
    "\n",
    "def get_p_tn1(obs, ind, weights):\n",
    "    if ind == len(obs) - 1:\n",
    "        # at last observation of sequence\n",
    "        if obs[ind] == [0,0,0,0,1]:\n",
    "            return 1\n",
    "        elif obs[ind] == [1,0,0,0,0]:\n",
    "            return 0\n",
    "    else:\n",
    "        # not last observation of sequence\n",
    "        return np.dot(weights, obs[ind + 1])\n",
    "\n",
    "if __name__ == '__main__':\n",
    "    run_exp3()"
   ]
  },
  {
   "cell_type": "code",
   "execution_count": null,
   "metadata": {},
   "outputs": [],
   "source": []
  }
 ],
 "metadata": {
  "kernelspec": {
   "display_name": "Python 3",
   "language": "python",
   "name": "python3"
  },
  "language_info": {
   "codemirror_mode": {
    "name": "ipython",
    "version": 3
   },
   "file_extension": ".py",
   "mimetype": "text/x-python",
   "name": "python",
   "nbconvert_exporter": "python",
   "pygments_lexer": "ipython3",
   "version": "3.7.1"
  }
 },
 "nbformat": 4,
 "nbformat_minor": 2
}
